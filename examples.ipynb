{
 "cells": [
  {
   "cell_type": "markdown",
   "id": "d2395f61",
   "metadata": {},
   "source": [
    "**Import packages**"
   ]
  },
  {
   "cell_type": "code",
   "execution_count": 1,
   "id": "british-bidding",
   "metadata": {},
   "outputs": [],
   "source": [
    "%load_ext autoreload\n",
    "%autoreload 2"
   ]
  },
  {
   "cell_type": "code",
   "execution_count": 2,
   "id": "accurate-independence",
   "metadata": {},
   "outputs": [],
   "source": [
    "import datetime\n",
    "import matplotlib\n",
    "import matplotlib.pyplot as plt\n",
    "%matplotlib inline\n",
    "import pandas as pd"
   ]
  },
  {
   "cell_type": "code",
   "execution_count": 3,
   "id": "subsequent-beauty",
   "metadata": {},
   "outputs": [],
   "source": [
    "import config\n",
    "from download_central_bank_tweets import sync\n",
    "from aggregate_climate_data import aggregate"
   ]
  },
  {
   "cell_type": "markdown",
   "id": "ac8500b6",
   "metadata": {},
   "source": [
    "**Download Twitter data**"
   ]
  },
  {
   "cell_type": "code",
   "execution_count": 4,
   "id": "145866ee",
   "metadata": {},
   "outputs": [
    {
     "name": "stdout",
     "output_type": "stream",
     "text": [
      "Querying 1 periods: [('2021-05-20', None)].\n",
      "Dropped 570 duplicate Tweet IDs.\n",
      "Reached date: 2021-05-20. Downloaded 3987976 tweets total.\n",
      "Done syncing!\n"
     ]
    }
   ],
   "source": [
    "sync()"
   ]
  },
  {
   "cell_type": "markdown",
   "id": "bf91f904",
   "metadata": {},
   "source": [
    "**Aggregate into monthly data**"
   ]
  },
  {
   "cell_type": "code",
   "execution_count": 5,
   "id": "afe1d32c",
   "metadata": {},
   "outputs": [
    {
     "name": "stdout",
     "output_type": "stream",
     "text": [
      "Reading in data.\n",
      "Aggregating by month.\n",
      "Saving results locally.\n",
      "Attempting network save\n",
      "Successfully saved to network path: H:/Alle/data_sharing/climate_results.xlsx\n",
      "...Done!\n"
     ]
    }
   ],
   "source": [
    "aggregate()"
   ]
  },
  {
   "cell_type": "markdown",
   "id": "83233f8f",
   "metadata": {},
   "source": [
    "**Read in the monthly data**"
   ]
  },
  {
   "cell_type": "code",
   "execution_count": 6,
   "id": "70b2b3f0",
   "metadata": {},
   "outputs": [],
   "source": [
    "df = pd.read_excel(config.climate_results_file)"
   ]
  },
  {
   "cell_type": "code",
   "execution_count": 7,
   "id": "23101e61",
   "metadata": {},
   "outputs": [
    {
     "data": {
      "text/html": [
       "<div>\n",
       "<style scoped>\n",
       "    .dataframe tbody tr th:only-of-type {\n",
       "        vertical-align: middle;\n",
       "    }\n",
       "\n",
       "    .dataframe tbody tr th {\n",
       "        vertical-align: top;\n",
       "    }\n",
       "\n",
       "    .dataframe thead th {\n",
       "        text-align: right;\n",
       "    }\n",
       "</style>\n",
       "<table border=\"1\" class=\"dataframe\">\n",
       "  <thead>\n",
       "    <tr style=\"text-align: right;\">\n",
       "      <th></th>\n",
       "      <th>month</th>\n",
       "      <th>contains_central_bank</th>\n",
       "      <th>contains_climate_change</th>\n",
       "      <th>ratio</th>\n",
       "      <th>ratio_rolling_avg_12</th>\n",
       "    </tr>\n",
       "  </thead>\n",
       "  <tbody>\n",
       "    <tr>\n",
       "      <th>0</th>\n",
       "      <td>2010-01</td>\n",
       "      <td>9713</td>\n",
       "      <td>1</td>\n",
       "      <td>0.000103</td>\n",
       "      <td>NaN</td>\n",
       "    </tr>\n",
       "    <tr>\n",
       "      <th>1</th>\n",
       "      <td>2010-02</td>\n",
       "      <td>7364</td>\n",
       "      <td>0</td>\n",
       "      <td>0.000000</td>\n",
       "      <td>NaN</td>\n",
       "    </tr>\n",
       "    <tr>\n",
       "      <th>2</th>\n",
       "      <td>2010-03</td>\n",
       "      <td>10584</td>\n",
       "      <td>1</td>\n",
       "      <td>0.000094</td>\n",
       "      <td>NaN</td>\n",
       "    </tr>\n",
       "    <tr>\n",
       "      <th>3</th>\n",
       "      <td>2010-04</td>\n",
       "      <td>9397</td>\n",
       "      <td>1</td>\n",
       "      <td>0.000106</td>\n",
       "      <td>NaN</td>\n",
       "    </tr>\n",
       "    <tr>\n",
       "      <th>4</th>\n",
       "      <td>2010-05</td>\n",
       "      <td>10388</td>\n",
       "      <td>0</td>\n",
       "      <td>0.000000</td>\n",
       "      <td>NaN</td>\n",
       "    </tr>\n",
       "  </tbody>\n",
       "</table>\n",
       "</div>"
      ],
      "text/plain": [
       "     month  contains_central_bank  contains_climate_change     ratio  \\\n",
       "0  2010-01                   9713                        1  0.000103   \n",
       "1  2010-02                   7364                        0  0.000000   \n",
       "2  2010-03                  10584                        1  0.000094   \n",
       "3  2010-04                   9397                        1  0.000106   \n",
       "4  2010-05                  10388                        0  0.000000   \n",
       "\n",
       "   ratio_rolling_avg_12  \n",
       "0                   NaN  \n",
       "1                   NaN  \n",
       "2                   NaN  \n",
       "3                   NaN  \n",
       "4                   NaN  "
      ]
     },
     "execution_count": 7,
     "metadata": {},
     "output_type": "execute_result"
    }
   ],
   "source": [
    "df.head()"
   ]
  },
  {
   "cell_type": "markdown",
   "id": "9eb27d9b",
   "metadata": {},
   "source": [
    "**Plot the percentage of tweets mentioning central banks which also mention climate change**"
   ]
  },
  {
   "cell_type": "code",
   "execution_count": 8,
   "id": "e94422a4",
   "metadata": {},
   "outputs": [
    {
     "data": {
      "image/png": "[encoded data removed]",
      "text/plain": [
       "<Figure size 864x576 with 1 Axes>"
      ]
     },
     "metadata": {
      "needs_background": "light"
     },
     "output_type": "display_data"
    }
   ],
   "source": [
    "fig, ax = plt.subplots(figsize=(12, 8))\n",
    "x = [datetime.datetime.strptime(s+\"-01\", \"%Y-%m-%d\") for s in df[\"month\"]]\n",
    "window = 12\n",
    "y = df[\"ratio\"].rolling(window=window).mean()\n",
    "label = f'Fraction tweets w. \"central bank\" containing \"climate change\" ({window} month rolling avg)'\n",
    "ax.plot(x, y, label=label)\n",
    "\n",
    "ax.yaxis.set_major_formatter(matplotlib.ticker.FuncFormatter(lambda val, pos: f\"{100*val:.2g}%\"))\n",
    "ax.legend();"
   ]
  },
  {
   "cell_type": "code",
   "execution_count": null,
   "id": "4fdb0bbf",
   "metadata": {},
   "outputs": [],
   "source": []
  }
 ],
 "metadata": {
  "kernelspec": {
   "display_name": "Python 3",
   "language": "python",
   "name": "python3"
  },
  "language_info": {
   "codemirror_mode": {
    "name": "ipython",
    "version": 3
   },
   "file_extension": ".py",
   "mimetype": "text/x-python",
   "name": "python",
   "nbconvert_exporter": "python",
   "pygments_lexer": "ipython3",
   "version": "3.7.0"
  }
 },
 "nbformat": 4,
 "nbformat_minor": 5
}
